{
 "cells": [
  {
   "cell_type": "code",
   "execution_count": 1,
   "id": "9df9c25f",
   "metadata": {},
   "outputs": [
    {
     "data": {
      "text/html": [
       "<div>\n",
       "<style scoped>\n",
       "    .dataframe tbody tr th:only-of-type {\n",
       "        vertical-align: middle;\n",
       "    }\n",
       "\n",
       "    .dataframe tbody tr th {\n",
       "        vertical-align: top;\n",
       "    }\n",
       "\n",
       "    .dataframe thead th {\n",
       "        text-align: right;\n",
       "    }\n",
       "</style>\n",
       "<table border=\"1\" class=\"dataframe\">\n",
       "  <thead>\n",
       "    <tr style=\"text-align: right;\">\n",
       "      <th></th>\n",
       "      <th>day</th>\n",
       "      <th>temprature</th>\n",
       "      <th>windspeed</th>\n",
       "      <th>event</th>\n",
       "    </tr>\n",
       "  </thead>\n",
       "  <tbody>\n",
       "    <tr>\n",
       "      <th>0</th>\n",
       "      <td>2017-01-01</td>\n",
       "      <td>32</td>\n",
       "      <td>6</td>\n",
       "      <td>rain</td>\n",
       "    </tr>\n",
       "    <tr>\n",
       "      <th>1</th>\n",
       "      <td>2017-02-01</td>\n",
       "      <td>35</td>\n",
       "      <td>7</td>\n",
       "      <td>n.a.</td>\n",
       "    </tr>\n",
       "    <tr>\n",
       "      <th>2</th>\n",
       "      <td>2017-03-01</td>\n",
       "      <td>n.a.</td>\n",
       "      <td>not avaliable</td>\n",
       "      <td>n.a.</td>\n",
       "    </tr>\n",
       "    <tr>\n",
       "      <th>3</th>\n",
       "      <td>2017-04-01</td>\n",
       "      <td>n.a.</td>\n",
       "      <td>7</td>\n",
       "      <td>snow</td>\n",
       "    </tr>\n",
       "    <tr>\n",
       "      <th>4</th>\n",
       "      <td>2017-05-01</td>\n",
       "      <td>32</td>\n",
       "      <td>4</td>\n",
       "      <td>rain</td>\n",
       "    </tr>\n",
       "    <tr>\n",
       "      <th>5</th>\n",
       "      <td>2017-06-01</td>\n",
       "      <td>32</td>\n",
       "      <td>2</td>\n",
       "      <td>n.a.</td>\n",
       "    </tr>\n",
       "  </tbody>\n",
       "</table>\n",
       "</div>"
      ],
      "text/plain": [
       "         day temprature      windspeed event\n",
       "0 2017-01-01         32              6  rain\n",
       "1 2017-02-01         35              7  n.a.\n",
       "2 2017-03-01       n.a.  not avaliable  n.a.\n",
       "3 2017-04-01       n.a.              7  snow\n",
       "4 2017-05-01         32              4  rain\n",
       "5 2017-06-01         32              2  n.a."
      ]
     },
     "execution_count": 1,
     "metadata": {},
     "output_type": "execute_result"
    }
   ],
   "source": [
    "#converters argument in read_excel() method\n",
    "import pandas as pd\n",
    "df = pd.read_excel(\"weather1.xlsx\",\"Sheet1\")\n",
    "df"
   ]
  },
  {
   "cell_type": "code",
   "execution_count": 2,
   "id": "39ee9b3d",
   "metadata": {},
   "outputs": [
    {
     "data": {
      "text/html": [
       "<div>\n",
       "<style scoped>\n",
       "    .dataframe tbody tr th:only-of-type {\n",
       "        vertical-align: middle;\n",
       "    }\n",
       "\n",
       "    .dataframe tbody tr th {\n",
       "        vertical-align: top;\n",
       "    }\n",
       "\n",
       "    .dataframe thead th {\n",
       "        text-align: right;\n",
       "    }\n",
       "</style>\n",
       "<table border=\"1\" class=\"dataframe\">\n",
       "  <thead>\n",
       "    <tr style=\"text-align: right;\">\n",
       "      <th></th>\n",
       "      <th>day</th>\n",
       "      <th>temprature</th>\n",
       "      <th>windspeed</th>\n",
       "      <th>event</th>\n",
       "    </tr>\n",
       "  </thead>\n",
       "  <tbody>\n",
       "    <tr>\n",
       "      <th>0</th>\n",
       "      <td>2017-01-01</td>\n",
       "      <td>32</td>\n",
       "      <td>6.0</td>\n",
       "      <td>rain</td>\n",
       "    </tr>\n",
       "    <tr>\n",
       "      <th>1</th>\n",
       "      <td>2017-02-01</td>\n",
       "      <td>35</td>\n",
       "      <td>7.0</td>\n",
       "      <td>sunny</td>\n",
       "    </tr>\n",
       "    <tr>\n",
       "      <th>2</th>\n",
       "      <td>2017-03-01</td>\n",
       "      <td>26</td>\n",
       "      <td>NaN</td>\n",
       "      <td>sunny</td>\n",
       "    </tr>\n",
       "    <tr>\n",
       "      <th>3</th>\n",
       "      <td>2017-04-01</td>\n",
       "      <td>26</td>\n",
       "      <td>7.0</td>\n",
       "      <td>snow</td>\n",
       "    </tr>\n",
       "    <tr>\n",
       "      <th>4</th>\n",
       "      <td>2017-05-01</td>\n",
       "      <td>32</td>\n",
       "      <td>4.0</td>\n",
       "      <td>rain</td>\n",
       "    </tr>\n",
       "    <tr>\n",
       "      <th>5</th>\n",
       "      <td>2017-06-01</td>\n",
       "      <td>32</td>\n",
       "      <td>2.0</td>\n",
       "      <td>sunny</td>\n",
       "    </tr>\n",
       "  </tbody>\n",
       "</table>\n",
       "</div>"
      ],
      "text/plain": [
       "         day  temprature  windspeed  event\n",
       "0 2017-01-01          32        6.0   rain\n",
       "1 2017-02-01          35        7.0  sunny\n",
       "2 2017-03-01          26        NaN  sunny\n",
       "3 2017-04-01          26        7.0   snow\n",
       "4 2017-05-01          32        4.0   rain\n",
       "5 2017-06-01          32        2.0  sunny"
      ]
     },
     "execution_count": 2,
     "metadata": {},
     "output_type": "execute_result"
    }
   ],
   "source": [
    "def convert_temprature_cell(cell):\n",
    "    if cell == \"n.a.\":\n",
    "        return 26\n",
    "    return cell\n",
    "\n",
    "def conert_windspeed_cell(cell):\n",
    "    if cell==\"not avaliable\":\n",
    "        return None\n",
    "    return cell\n",
    "\n",
    "def event_converter_cell(cell):\n",
    "    if cell==\"n.a.\":\n",
    "        return \"sunny\"\n",
    "    return cell\n",
    "\n",
    "df = pd.read_excel(\"weather1.xlsx\",\"Sheet1\", converters = {\n",
    "    'temprature' : convert_temprature_cell,\n",
    "    'windspeed' : conert_windspeed_cell,\n",
    "    'event' : event_converter_cell\n",
    "   \n",
    "})\n",
    "df"
   ]
  },
  {
   "cell_type": "code",
   "execution_count": null,
   "id": "b6580487",
   "metadata": {},
   "outputs": [],
   "source": []
  },
  {
   "cell_type": "code",
   "execution_count": null,
   "id": "41bab27d",
   "metadata": {},
   "outputs": [],
   "source": []
  },
  {
   "cell_type": "code",
   "execution_count": 3,
   "id": "a29ac0d6",
   "metadata": {},
   "outputs": [],
   "source": [
    "#to_excel() =>create new excel file\n",
    "df = pd.read_csv(\"weather2.csv\", na_values={\n",
    "    'temprature' : [\"not avaliable\", \"n.a.\"],         #only convert not avaliable and n.a. values to Nan\n",
    "    'windspeed' : [\"not avaliable\", \"n.a.\",-8,-7],\n",
    "    'event': [\"not avaliable\", \"n.a.\"]\n",
    "})\n",
    "df"
   ]
  },
  {
   "cell_type": "code",
   "execution_count": 5,
   "id": "c23e2a71",
   "metadata": {},
   "outputs": [],
   "source": [
    "df.to_excel(\"new.xlsx\",sheet_name=\"weather Data\", startrow=1, startcol=2, index=False)"
   ]
  },
  {
   "cell_type": "code",
   "execution_count": null,
   "id": "cd47b944",
   "metadata": {},
   "outputs": [],
   "source": []
  },
  {
   "cell_type": "code",
   "execution_count": null,
   "id": "56fcd6c4",
   "metadata": {},
   "outputs": [],
   "source": []
  },
  {
   "cell_type": "code",
   "execution_count": 8,
   "id": "dcd45e23",
   "metadata": {},
   "outputs": [],
   "source": [
    "#ExcelWritter() class to create excel file\n",
    "df_w1 = pd.DataFrame({\n",
    "    'temprature' : [7,5,7],         \n",
    "    'windspeed' : [9,8,7],\n",
    "    'event': [\"not avaliable\", \"n.a.\",\"rain\"]\n",
    "})\n",
    "\n",
    "df_w2 = pd.DataFrame({\n",
    "    'temprature' : [12,15,18],         \n",
    "    'windspeed' : [5,-8,-7],\n",
    "    'event': [\"not avaliable\", \"n.a.\",\"sunny\"]\n",
    "})\n"
   ]
  },
  {
   "cell_type": "code",
   "execution_count": 9,
   "id": "f2b20ffe",
   "metadata": {},
   "outputs": [],
   "source": [
    "with pd.ExcelWriter(\"weather_data.xlsx\") as writer:\n",
    "    \n",
    "    df_w1.to_excel(writer, sheet_name=\"w1\")\n",
    "    df_w2.to_excel(writer, sheet_name=\"w2\")"
   ]
  },
  {
   "cell_type": "code",
   "execution_count": null,
   "id": "2b1d32a4",
   "metadata": {},
   "outputs": [],
   "source": [
    "#google pandas read csv documentation"
   ]
  }
 ],
 "metadata": {
  "kernelspec": {
   "display_name": "Python 3 (ipykernel)",
   "language": "python",
   "name": "python3"
  },
  "language_info": {
   "codemirror_mode": {
    "name": "ipython",
    "version": 3
   },
   "file_extension": ".py",
   "mimetype": "text/x-python",
   "name": "python",
   "nbconvert_exporter": "python",
   "pygments_lexer": "ipython3",
   "version": "3.9.7"
  }
 },
 "nbformat": 4,
 "nbformat_minor": 5
}
