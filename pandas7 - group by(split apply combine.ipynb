{
 "cells": [
  {
   "cell_type": "code",
   "execution_count": 1,
   "id": "d23e5eee",
   "metadata": {},
   "outputs": [],
   "source": [
    "#find max temp in each city\n",
    "#find avg wind speed per city"
   ]
  },
  {
   "cell_type": "code",
   "execution_count": null,
   "id": "4cf13a00",
   "metadata": {},
   "outputs": [],
   "source": []
  },
  {
   "cell_type": "code",
   "execution_count": 3,
   "id": "d213c9d3",
   "metadata": {},
   "outputs": [],
   "source": [
    "import numpy as np"
   ]
  },
  {
   "cell_type": "code",
   "execution_count": 4,
   "id": "ab508aa5",
   "metadata": {},
   "outputs": [],
   "source": [
    "import pandas as pd"
   ]
  },
  {
   "cell_type": "code",
   "execution_count": 5,
   "id": "56f79e00",
   "metadata": {},
   "outputs": [
    {
     "data": {
      "text/html": [
       "<div>\n",
       "<style scoped>\n",
       "    .dataframe tbody tr th:only-of-type {\n",
       "        vertical-align: middle;\n",
       "    }\n",
       "\n",
       "    .dataframe tbody tr th {\n",
       "        vertical-align: top;\n",
       "    }\n",
       "\n",
       "    .dataframe thead th {\n",
       "        text-align: right;\n",
       "    }\n",
       "</style>\n",
       "<table border=\"1\" class=\"dataframe\">\n",
       "  <thead>\n",
       "    <tr style=\"text-align: right;\">\n",
       "      <th></th>\n",
       "      <th>day</th>\n",
       "      <th>city</th>\n",
       "      <th>temprature</th>\n",
       "      <th>windspeed</th>\n",
       "      <th>event</th>\n",
       "    </tr>\n",
       "  </thead>\n",
       "  <tbody>\n",
       "    <tr>\n",
       "      <th>0</th>\n",
       "      <td>01-01-2017</td>\n",
       "      <td>new york</td>\n",
       "      <td>32</td>\n",
       "      <td>6</td>\n",
       "      <td>rain</td>\n",
       "    </tr>\n",
       "    <tr>\n",
       "      <th>1</th>\n",
       "      <td>01-02-2017</td>\n",
       "      <td>new york</td>\n",
       "      <td>35</td>\n",
       "      <td>7</td>\n",
       "      <td>sunny</td>\n",
       "    </tr>\n",
       "    <tr>\n",
       "      <th>2</th>\n",
       "      <td>01-03-2017</td>\n",
       "      <td>new york</td>\n",
       "      <td>28</td>\n",
       "      <td>2</td>\n",
       "      <td>snow</td>\n",
       "    </tr>\n",
       "    <tr>\n",
       "      <th>3</th>\n",
       "      <td>01-04-2017</td>\n",
       "      <td>new york</td>\n",
       "      <td>24</td>\n",
       "      <td>7</td>\n",
       "      <td>snow</td>\n",
       "    </tr>\n",
       "    <tr>\n",
       "      <th>4</th>\n",
       "      <td>01-01-2017</td>\n",
       "      <td>mumbai</td>\n",
       "      <td>32</td>\n",
       "      <td>4</td>\n",
       "      <td>rain</td>\n",
       "    </tr>\n",
       "    <tr>\n",
       "      <th>5</th>\n",
       "      <td>01-02-2017</td>\n",
       "      <td>mumbai</td>\n",
       "      <td>32</td>\n",
       "      <td>2</td>\n",
       "      <td>sunny</td>\n",
       "    </tr>\n",
       "    <tr>\n",
       "      <th>6</th>\n",
       "      <td>01-03-2017</td>\n",
       "      <td>mumbai</td>\n",
       "      <td>36</td>\n",
       "      <td>7</td>\n",
       "      <td>fog</td>\n",
       "    </tr>\n",
       "    <tr>\n",
       "      <th>7</th>\n",
       "      <td>01-04-2017</td>\n",
       "      <td>mumbai</td>\n",
       "      <td>48</td>\n",
       "      <td>8</td>\n",
       "      <td>fog</td>\n",
       "    </tr>\n",
       "    <tr>\n",
       "      <th>8</th>\n",
       "      <td>01-01-2017</td>\n",
       "      <td>paris</td>\n",
       "      <td>78</td>\n",
       "      <td>10</td>\n",
       "      <td>rain</td>\n",
       "    </tr>\n",
       "    <tr>\n",
       "      <th>9</th>\n",
       "      <td>01-02-2017</td>\n",
       "      <td>paris</td>\n",
       "      <td>54</td>\n",
       "      <td>15</td>\n",
       "      <td>sunny</td>\n",
       "    </tr>\n",
       "    <tr>\n",
       "      <th>10</th>\n",
       "      <td>01-03-2017</td>\n",
       "      <td>paris</td>\n",
       "      <td>70</td>\n",
       "      <td>4</td>\n",
       "      <td>rain</td>\n",
       "    </tr>\n",
       "    <tr>\n",
       "      <th>11</th>\n",
       "      <td>01-04-2017</td>\n",
       "      <td>paris</td>\n",
       "      <td>14</td>\n",
       "      <td>9</td>\n",
       "      <td>cloudy</td>\n",
       "    </tr>\n",
       "  </tbody>\n",
       "</table>\n",
       "</div>"
      ],
      "text/plain": [
       "           day      city  temprature  windspeed   event\n",
       "0   01-01-2017  new york          32          6    rain\n",
       "1   01-02-2017  new york          35          7   sunny\n",
       "2   01-03-2017  new york          28          2    snow\n",
       "3   01-04-2017  new york          24          7    snow\n",
       "4   01-01-2017    mumbai          32          4    rain\n",
       "5   01-02-2017    mumbai          32          2   sunny\n",
       "6   01-03-2017    mumbai          36          7     fog\n",
       "7   01-04-2017    mumbai          48          8     fog\n",
       "8   01-01-2017     paris          78         10    rain\n",
       "9   01-02-2017     paris          54         15   sunny\n",
       "10  01-03-2017     paris          70          4    rain\n",
       "11  01-04-2017     paris          14          9  cloudy"
      ]
     },
     "execution_count": 5,
     "metadata": {},
     "output_type": "execute_result"
    }
   ],
   "source": [
    "df = pd.read_csv(\"weather.csv\")\n",
    "df"
   ]
  },
  {
   "cell_type": "code",
   "execution_count": 6,
   "id": "bea336d1",
   "metadata": {},
   "outputs": [
    {
     "data": {
      "text/plain": [
       "<pandas.core.groupby.generic.DataFrameGroupBy object at 0x00000133B4092700>"
      ]
     },
     "execution_count": 6,
     "metadata": {},
     "output_type": "execute_result"
    }
   ],
   "source": [
    "g = df.groupby('city')\n",
    "g"
   ]
  },
  {
   "cell_type": "code",
   "execution_count": 7,
   "id": "0061d3c5",
   "metadata": {},
   "outputs": [
    {
     "name": "stdout",
     "output_type": "stream",
     "text": [
      "mumbai\n",
      "          day    city  temprature  windspeed  event\n",
      "4  01-01-2017  mumbai          32          4   rain\n",
      "5  01-02-2017  mumbai          32          2  sunny\n",
      "6  01-03-2017  mumbai          36          7    fog\n",
      "7  01-04-2017  mumbai          48          8    fog\n",
      "new york\n",
      "          day      city  temprature  windspeed  event\n",
      "0  01-01-2017  new york          32          6   rain\n",
      "1  01-02-2017  new york          35          7  sunny\n",
      "2  01-03-2017  new york          28          2   snow\n",
      "3  01-04-2017  new york          24          7   snow\n",
      "paris\n",
      "           day   city  temprature  windspeed   event\n",
      "8   01-01-2017  paris          78         10    rain\n",
      "9   01-02-2017  paris          54         15   sunny\n",
      "10  01-03-2017  paris          70          4    rain\n",
      "11  01-04-2017  paris          14          9  cloudy\n"
     ]
    }
   ],
   "source": [
    "for city, city_df in g:\n",
    "    print(city)\n",
    "    print(city_df)"
   ]
  },
  {
   "cell_type": "code",
   "execution_count": 8,
   "id": "34a75eea",
   "metadata": {},
   "outputs": [
    {
     "data": {
      "text/html": [
       "<div>\n",
       "<style scoped>\n",
       "    .dataframe tbody tr th:only-of-type {\n",
       "        vertical-align: middle;\n",
       "    }\n",
       "\n",
       "    .dataframe tbody tr th {\n",
       "        vertical-align: top;\n",
       "    }\n",
       "\n",
       "    .dataframe thead th {\n",
       "        text-align: right;\n",
       "    }\n",
       "</style>\n",
       "<table border=\"1\" class=\"dataframe\">\n",
       "  <thead>\n",
       "    <tr style=\"text-align: right;\">\n",
       "      <th></th>\n",
       "      <th>day</th>\n",
       "      <th>city</th>\n",
       "      <th>temprature</th>\n",
       "      <th>windspeed</th>\n",
       "      <th>event</th>\n",
       "    </tr>\n",
       "  </thead>\n",
       "  <tbody>\n",
       "    <tr>\n",
       "      <th>4</th>\n",
       "      <td>01-01-2017</td>\n",
       "      <td>mumbai</td>\n",
       "      <td>32</td>\n",
       "      <td>4</td>\n",
       "      <td>rain</td>\n",
       "    </tr>\n",
       "    <tr>\n",
       "      <th>5</th>\n",
       "      <td>01-02-2017</td>\n",
       "      <td>mumbai</td>\n",
       "      <td>32</td>\n",
       "      <td>2</td>\n",
       "      <td>sunny</td>\n",
       "    </tr>\n",
       "    <tr>\n",
       "      <th>6</th>\n",
       "      <td>01-03-2017</td>\n",
       "      <td>mumbai</td>\n",
       "      <td>36</td>\n",
       "      <td>7</td>\n",
       "      <td>fog</td>\n",
       "    </tr>\n",
       "    <tr>\n",
       "      <th>7</th>\n",
       "      <td>01-04-2017</td>\n",
       "      <td>mumbai</td>\n",
       "      <td>48</td>\n",
       "      <td>8</td>\n",
       "      <td>fog</td>\n",
       "    </tr>\n",
       "  </tbody>\n",
       "</table>\n",
       "</div>"
      ],
      "text/plain": [
       "          day    city  temprature  windspeed  event\n",
       "4  01-01-2017  mumbai          32          4   rain\n",
       "5  01-02-2017  mumbai          32          2  sunny\n",
       "6  01-03-2017  mumbai          36          7    fog\n",
       "7  01-04-2017  mumbai          48          8    fog"
      ]
     },
     "execution_count": 8,
     "metadata": {},
     "output_type": "execute_result"
    }
   ],
   "source": [
    "g.get_group('mumbai')"
   ]
  },
  {
   "cell_type": "code",
   "execution_count": 9,
   "id": "58f5c056",
   "metadata": {},
   "outputs": [
    {
     "data": {
      "text/html": [
       "<div>\n",
       "<style scoped>\n",
       "    .dataframe tbody tr th:only-of-type {\n",
       "        vertical-align: middle;\n",
       "    }\n",
       "\n",
       "    .dataframe tbody tr th {\n",
       "        vertical-align: top;\n",
       "    }\n",
       "\n",
       "    .dataframe thead th {\n",
       "        text-align: right;\n",
       "    }\n",
       "</style>\n",
       "<table border=\"1\" class=\"dataframe\">\n",
       "  <thead>\n",
       "    <tr style=\"text-align: right;\">\n",
       "      <th></th>\n",
       "      <th>day</th>\n",
       "      <th>city</th>\n",
       "      <th>temprature</th>\n",
       "      <th>windspeed</th>\n",
       "      <th>event</th>\n",
       "    </tr>\n",
       "  </thead>\n",
       "  <tbody>\n",
       "    <tr>\n",
       "      <th>0</th>\n",
       "      <td>01-01-2017</td>\n",
       "      <td>new york</td>\n",
       "      <td>32</td>\n",
       "      <td>6</td>\n",
       "      <td>rain</td>\n",
       "    </tr>\n",
       "    <tr>\n",
       "      <th>1</th>\n",
       "      <td>01-02-2017</td>\n",
       "      <td>new york</td>\n",
       "      <td>35</td>\n",
       "      <td>7</td>\n",
       "      <td>sunny</td>\n",
       "    </tr>\n",
       "    <tr>\n",
       "      <th>2</th>\n",
       "      <td>01-03-2017</td>\n",
       "      <td>new york</td>\n",
       "      <td>28</td>\n",
       "      <td>2</td>\n",
       "      <td>snow</td>\n",
       "    </tr>\n",
       "    <tr>\n",
       "      <th>3</th>\n",
       "      <td>01-04-2017</td>\n",
       "      <td>new york</td>\n",
       "      <td>24</td>\n",
       "      <td>7</td>\n",
       "      <td>snow</td>\n",
       "    </tr>\n",
       "  </tbody>\n",
       "</table>\n",
       "</div>"
      ],
      "text/plain": [
       "          day      city  temprature  windspeed  event\n",
       "0  01-01-2017  new york          32          6   rain\n",
       "1  01-02-2017  new york          35          7  sunny\n",
       "2  01-03-2017  new york          28          2   snow\n",
       "3  01-04-2017  new york          24          7   snow"
      ]
     },
     "execution_count": 9,
     "metadata": {},
     "output_type": "execute_result"
    }
   ],
   "source": [
    "g.get_group(\"new york\")"
   ]
  },
  {
   "cell_type": "code",
   "execution_count": 10,
   "id": "6b0942ef",
   "metadata": {},
   "outputs": [
    {
     "data": {
      "text/html": [
       "<div>\n",
       "<style scoped>\n",
       "    .dataframe tbody tr th:only-of-type {\n",
       "        vertical-align: middle;\n",
       "    }\n",
       "\n",
       "    .dataframe tbody tr th {\n",
       "        vertical-align: top;\n",
       "    }\n",
       "\n",
       "    .dataframe thead th {\n",
       "        text-align: right;\n",
       "    }\n",
       "</style>\n",
       "<table border=\"1\" class=\"dataframe\">\n",
       "  <thead>\n",
       "    <tr style=\"text-align: right;\">\n",
       "      <th></th>\n",
       "      <th>day</th>\n",
       "      <th>temprature</th>\n",
       "      <th>windspeed</th>\n",
       "      <th>event</th>\n",
       "    </tr>\n",
       "    <tr>\n",
       "      <th>city</th>\n",
       "      <th></th>\n",
       "      <th></th>\n",
       "      <th></th>\n",
       "      <th></th>\n",
       "    </tr>\n",
       "  </thead>\n",
       "  <tbody>\n",
       "    <tr>\n",
       "      <th>mumbai</th>\n",
       "      <td>01-04-2017</td>\n",
       "      <td>48</td>\n",
       "      <td>8</td>\n",
       "      <td>sunny</td>\n",
       "    </tr>\n",
       "    <tr>\n",
       "      <th>new york</th>\n",
       "      <td>01-04-2017</td>\n",
       "      <td>35</td>\n",
       "      <td>7</td>\n",
       "      <td>sunny</td>\n",
       "    </tr>\n",
       "    <tr>\n",
       "      <th>paris</th>\n",
       "      <td>01-04-2017</td>\n",
       "      <td>78</td>\n",
       "      <td>15</td>\n",
       "      <td>sunny</td>\n",
       "    </tr>\n",
       "  </tbody>\n",
       "</table>\n",
       "</div>"
      ],
      "text/plain": [
       "                 day  temprature  windspeed  event\n",
       "city                                              \n",
       "mumbai    01-04-2017          48          8  sunny\n",
       "new york  01-04-2017          35          7  sunny\n",
       "paris     01-04-2017          78         15  sunny"
      ]
     },
     "execution_count": 10,
     "metadata": {},
     "output_type": "execute_result"
    }
   ],
   "source": [
    "g.max()"
   ]
  },
  {
   "cell_type": "code",
   "execution_count": 11,
   "id": "4cc27fd6",
   "metadata": {},
   "outputs": [
    {
     "data": {
      "text/html": [
       "<div>\n",
       "<style scoped>\n",
       "    .dataframe tbody tr th:only-of-type {\n",
       "        vertical-align: middle;\n",
       "    }\n",
       "\n",
       "    .dataframe tbody tr th {\n",
       "        vertical-align: top;\n",
       "    }\n",
       "\n",
       "    .dataframe thead th {\n",
       "        text-align: right;\n",
       "    }\n",
       "</style>\n",
       "<table border=\"1\" class=\"dataframe\">\n",
       "  <thead>\n",
       "    <tr style=\"text-align: right;\">\n",
       "      <th></th>\n",
       "      <th>temprature</th>\n",
       "      <th>windspeed</th>\n",
       "    </tr>\n",
       "    <tr>\n",
       "      <th>city</th>\n",
       "      <th></th>\n",
       "      <th></th>\n",
       "    </tr>\n",
       "  </thead>\n",
       "  <tbody>\n",
       "    <tr>\n",
       "      <th>mumbai</th>\n",
       "      <td>34.0</td>\n",
       "      <td>5.5</td>\n",
       "    </tr>\n",
       "    <tr>\n",
       "      <th>new york</th>\n",
       "      <td>30.0</td>\n",
       "      <td>6.5</td>\n",
       "    </tr>\n",
       "    <tr>\n",
       "      <th>paris</th>\n",
       "      <td>62.0</td>\n",
       "      <td>9.5</td>\n",
       "    </tr>\n",
       "  </tbody>\n",
       "</table>\n",
       "</div>"
      ],
      "text/plain": [
       "          temprature  windspeed\n",
       "city                           \n",
       "mumbai          34.0        5.5\n",
       "new york        30.0        6.5\n",
       "paris           62.0        9.5"
      ]
     },
     "execution_count": 11,
     "metadata": {},
     "output_type": "execute_result"
    }
   ],
   "source": [
    "g.median()"
   ]
  },
  {
   "cell_type": "code",
   "execution_count": 12,
   "id": "133403c1",
   "metadata": {},
   "outputs": [
    {
     "data": {
      "text/html": [
       "<div>\n",
       "<style scoped>\n",
       "    .dataframe tbody tr th:only-of-type {\n",
       "        vertical-align: middle;\n",
       "    }\n",
       "\n",
       "    .dataframe tbody tr th {\n",
       "        vertical-align: top;\n",
       "    }\n",
       "\n",
       "    .dataframe thead th {\n",
       "        text-align: right;\n",
       "    }\n",
       "</style>\n",
       "<table border=\"1\" class=\"dataframe\">\n",
       "  <thead>\n",
       "    <tr style=\"text-align: right;\">\n",
       "      <th></th>\n",
       "      <th>day</th>\n",
       "      <th>temprature</th>\n",
       "      <th>windspeed</th>\n",
       "      <th>event</th>\n",
       "    </tr>\n",
       "    <tr>\n",
       "      <th>city</th>\n",
       "      <th></th>\n",
       "      <th></th>\n",
       "      <th></th>\n",
       "      <th></th>\n",
       "    </tr>\n",
       "  </thead>\n",
       "  <tbody>\n",
       "    <tr>\n",
       "      <th>mumbai</th>\n",
       "      <td>01-01-2017</td>\n",
       "      <td>32</td>\n",
       "      <td>2</td>\n",
       "      <td>fog</td>\n",
       "    </tr>\n",
       "    <tr>\n",
       "      <th>new york</th>\n",
       "      <td>01-01-2017</td>\n",
       "      <td>24</td>\n",
       "      <td>2</td>\n",
       "      <td>rain</td>\n",
       "    </tr>\n",
       "    <tr>\n",
       "      <th>paris</th>\n",
       "      <td>01-01-2017</td>\n",
       "      <td>14</td>\n",
       "      <td>4</td>\n",
       "      <td>cloudy</td>\n",
       "    </tr>\n",
       "  </tbody>\n",
       "</table>\n",
       "</div>"
      ],
      "text/plain": [
       "                 day  temprature  windspeed   event\n",
       "city                                               \n",
       "mumbai    01-01-2017          32          2     fog\n",
       "new york  01-01-2017          24          2    rain\n",
       "paris     01-01-2017          14          4  cloudy"
      ]
     },
     "execution_count": 12,
     "metadata": {},
     "output_type": "execute_result"
    }
   ],
   "source": [
    "g.min()"
   ]
  },
  {
   "cell_type": "code",
   "execution_count": 13,
   "id": "f176fc61",
   "metadata": {},
   "outputs": [
    {
     "data": {
      "text/html": [
       "<div>\n",
       "<style scoped>\n",
       "    .dataframe tbody tr th:only-of-type {\n",
       "        vertical-align: middle;\n",
       "    }\n",
       "\n",
       "    .dataframe tbody tr th {\n",
       "        vertical-align: top;\n",
       "    }\n",
       "\n",
       "    .dataframe thead th {\n",
       "        text-align: right;\n",
       "    }\n",
       "</style>\n",
       "<table border=\"1\" class=\"dataframe\">\n",
       "  <thead>\n",
       "    <tr style=\"text-align: right;\">\n",
       "      <th></th>\n",
       "      <th>temprature</th>\n",
       "      <th>windspeed</th>\n",
       "    </tr>\n",
       "    <tr>\n",
       "      <th>city</th>\n",
       "      <th></th>\n",
       "      <th></th>\n",
       "    </tr>\n",
       "  </thead>\n",
       "  <tbody>\n",
       "    <tr>\n",
       "      <th>mumbai</th>\n",
       "      <td>37.00</td>\n",
       "      <td>5.25</td>\n",
       "    </tr>\n",
       "    <tr>\n",
       "      <th>new york</th>\n",
       "      <td>29.75</td>\n",
       "      <td>5.50</td>\n",
       "    </tr>\n",
       "    <tr>\n",
       "      <th>paris</th>\n",
       "      <td>54.00</td>\n",
       "      <td>9.50</td>\n",
       "    </tr>\n",
       "  </tbody>\n",
       "</table>\n",
       "</div>"
      ],
      "text/plain": [
       "          temprature  windspeed\n",
       "city                           \n",
       "mumbai         37.00       5.25\n",
       "new york       29.75       5.50\n",
       "paris          54.00       9.50"
      ]
     },
     "execution_count": 13,
     "metadata": {},
     "output_type": "execute_result"
    }
   ],
   "source": [
    "g.mean()"
   ]
  },
  {
   "cell_type": "code",
   "execution_count": 14,
   "id": "29257119",
   "metadata": {},
   "outputs": [
    {
     "data": {
      "text/html": [
       "<div>\n",
       "<style scoped>\n",
       "    .dataframe tbody tr th:only-of-type {\n",
       "        vertical-align: middle;\n",
       "    }\n",
       "\n",
       "    .dataframe tbody tr th {\n",
       "        vertical-align: top;\n",
       "    }\n",
       "\n",
       "    .dataframe thead tr th {\n",
       "        text-align: left;\n",
       "    }\n",
       "\n",
       "    .dataframe thead tr:last-of-type th {\n",
       "        text-align: right;\n",
       "    }\n",
       "</style>\n",
       "<table border=\"1\" class=\"dataframe\">\n",
       "  <thead>\n",
       "    <tr>\n",
       "      <th></th>\n",
       "      <th colspan=\"8\" halign=\"left\">temprature</th>\n",
       "      <th colspan=\"8\" halign=\"left\">windspeed</th>\n",
       "    </tr>\n",
       "    <tr>\n",
       "      <th></th>\n",
       "      <th>count</th>\n",
       "      <th>mean</th>\n",
       "      <th>std</th>\n",
       "      <th>min</th>\n",
       "      <th>25%</th>\n",
       "      <th>50%</th>\n",
       "      <th>75%</th>\n",
       "      <th>max</th>\n",
       "      <th>count</th>\n",
       "      <th>mean</th>\n",
       "      <th>std</th>\n",
       "      <th>min</th>\n",
       "      <th>25%</th>\n",
       "      <th>50%</th>\n",
       "      <th>75%</th>\n",
       "      <th>max</th>\n",
       "    </tr>\n",
       "    <tr>\n",
       "      <th>city</th>\n",
       "      <th></th>\n",
       "      <th></th>\n",
       "      <th></th>\n",
       "      <th></th>\n",
       "      <th></th>\n",
       "      <th></th>\n",
       "      <th></th>\n",
       "      <th></th>\n",
       "      <th></th>\n",
       "      <th></th>\n",
       "      <th></th>\n",
       "      <th></th>\n",
       "      <th></th>\n",
       "      <th></th>\n",
       "      <th></th>\n",
       "      <th></th>\n",
       "    </tr>\n",
       "  </thead>\n",
       "  <tbody>\n",
       "    <tr>\n",
       "      <th>mumbai</th>\n",
       "      <td>4.0</td>\n",
       "      <td>37.00</td>\n",
       "      <td>7.571878</td>\n",
       "      <td>32.0</td>\n",
       "      <td>32.0</td>\n",
       "      <td>34.0</td>\n",
       "      <td>39.00</td>\n",
       "      <td>48.0</td>\n",
       "      <td>4.0</td>\n",
       "      <td>5.25</td>\n",
       "      <td>2.753785</td>\n",
       "      <td>2.0</td>\n",
       "      <td>3.50</td>\n",
       "      <td>5.5</td>\n",
       "      <td>7.25</td>\n",
       "      <td>8.0</td>\n",
       "    </tr>\n",
       "    <tr>\n",
       "      <th>new york</th>\n",
       "      <td>4.0</td>\n",
       "      <td>29.75</td>\n",
       "      <td>4.787136</td>\n",
       "      <td>24.0</td>\n",
       "      <td>27.0</td>\n",
       "      <td>30.0</td>\n",
       "      <td>32.75</td>\n",
       "      <td>35.0</td>\n",
       "      <td>4.0</td>\n",
       "      <td>5.50</td>\n",
       "      <td>2.380476</td>\n",
       "      <td>2.0</td>\n",
       "      <td>5.00</td>\n",
       "      <td>6.5</td>\n",
       "      <td>7.00</td>\n",
       "      <td>7.0</td>\n",
       "    </tr>\n",
       "    <tr>\n",
       "      <th>paris</th>\n",
       "      <td>4.0</td>\n",
       "      <td>54.00</td>\n",
       "      <td>28.472209</td>\n",
       "      <td>14.0</td>\n",
       "      <td>44.0</td>\n",
       "      <td>62.0</td>\n",
       "      <td>72.00</td>\n",
       "      <td>78.0</td>\n",
       "      <td>4.0</td>\n",
       "      <td>9.50</td>\n",
       "      <td>4.509250</td>\n",
       "      <td>4.0</td>\n",
       "      <td>7.75</td>\n",
       "      <td>9.5</td>\n",
       "      <td>11.25</td>\n",
       "      <td>15.0</td>\n",
       "    </tr>\n",
       "  </tbody>\n",
       "</table>\n",
       "</div>"
      ],
      "text/plain": [
       "         temprature                                                   \\\n",
       "              count   mean        std   min   25%   50%    75%   max   \n",
       "city                                                                   \n",
       "mumbai          4.0  37.00   7.571878  32.0  32.0  34.0  39.00  48.0   \n",
       "new york        4.0  29.75   4.787136  24.0  27.0  30.0  32.75  35.0   \n",
       "paris           4.0  54.00  28.472209  14.0  44.0  62.0  72.00  78.0   \n",
       "\n",
       "         windspeed                                               \n",
       "             count  mean       std  min   25%  50%    75%   max  \n",
       "city                                                             \n",
       "mumbai         4.0  5.25  2.753785  2.0  3.50  5.5   7.25   8.0  \n",
       "new york       4.0  5.50  2.380476  2.0  5.00  6.5   7.00   7.0  \n",
       "paris          4.0  9.50  4.509250  4.0  7.75  9.5  11.25  15.0  "
      ]
     },
     "execution_count": 14,
     "metadata": {},
     "output_type": "execute_result"
    }
   ],
   "source": [
    "g.describe()"
   ]
  },
  {
   "cell_type": "code",
   "execution_count": 17,
   "id": "e7ad9eb2",
   "metadata": {},
   "outputs": [],
   "source": [
    "import matplotlib.pyplot as plt\n",
    "%matplotlib inline"
   ]
  },
  {
   "cell_type": "code",
   "execution_count": 18,
   "id": "b83cb017",
   "metadata": {},
   "outputs": [
    {
     "data": {
      "text/plain": [
       "city\n",
       "mumbai      AxesSubplot(0.125,0.125;0.775x0.755)\n",
       "new york    AxesSubplot(0.125,0.125;0.775x0.755)\n",
       "paris       AxesSubplot(0.125,0.125;0.775x0.755)\n",
       "dtype: object"
      ]
     },
     "execution_count": 18,
     "metadata": {},
     "output_type": "execute_result"
    },
    {
     "data": {
      "image/png": "[encoded data removed]",
      "text/plain": [
       "<Figure size 432x288 with 1 Axes>"
      ]
     },
     "metadata": {
      "needs_background": "light"
     },
     "output_type": "display_data"
    },
    {
     "data": {
      "image/png": "[encoded data removed]",
      "text/plain": [
       "<Figure size 432x288 with 1 Axes>"
      ]
     },
     "metadata": {
      "needs_background": "light"
     },
     "output_type": "display_data"
    },
    {
     "data": {
      "image/png": "[encoded data removed]",
      "text/plain": [
       "<Figure size 432x288 with 1 Axes>"
      ]
     },
     "metadata": {
      "needs_background": "light"
     },
     "output_type": "display_data"
    }
   ],
   "source": [
    "g.plot()"
   ]
  },
  {
   "cell_type": "code",
   "execution_count": null,
   "id": "65015373",
   "metadata": {},
   "outputs": [],
   "source": []
  }
 ],
 "metadata": {
  "kernelspec": {
   "display_name": "Python 3 (ipykernel)",
   "language": "python",
   "name": "python3"
  },
  "language_info": {
   "codemirror_mode": {
    "name": "ipython",
    "version": 3
   },
   "file_extension": ".py",
   "mimetype": "text/x-python",
   "name": "python",
   "nbconvert_exporter": "python",
   "pygments_lexer": "ipython3",
   "version": "3.9.7"
  }
 },
 "nbformat": 4,
 "nbformat_minor": 5
}
